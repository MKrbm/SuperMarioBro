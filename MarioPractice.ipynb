{
 "cells": [
  {
   "cell_type": "code",
   "execution_count": 1,
   "metadata": {},
   "outputs": [],
   "source": [
    "import torch\n",
    "import torch.nn as nn\n",
    "import torch.nn.functional as F\n",
    "import numpy as np"
   ]
  },
  {
   "cell_type": "markdown",
   "metadata": {},
   "source": [
    "## ReplayBuffer class"
   ]
  },
  {
   "cell_type": "code",
   "execution_count": 12,
   "metadata": {
    "collapsed": true
   },
   "outputs": [
    {
     "name": "stdout",
     "output_type": "stream",
     "text": [
      "tensor([[0., 0., 0., 0., 0.],\n",
      "        [0., 0., 0., 0., 0.],\n",
      "        [0., 0., 0., 0., 0.],\n",
      "        [0., 0., 0., 0., 0.]])\n"
     ]
    },
    {
     "ename": "TypeError",
     "evalue": "can only concatenate tuple (not \"int\") to tuple",
     "output_type": "error",
     "traceback": [
      "\u001b[0;31m---------------------------------------------------------------------------\u001b[0m",
      "\u001b[0;31mTypeError\u001b[0m                                 Traceback (most recent call last)",
      "\u001b[0;32m<ipython-input-12-ab2d470e01b9>\u001b[0m in \u001b[0;36m<module>\u001b[0;34m\u001b[0m\n\u001b[1;32m      4\u001b[0m \u001b[0mprint\u001b[0m\u001b[0;34m(\u001b[0m\u001b[0mtorch\u001b[0m\u001b[0;34m.\u001b[0m\u001b[0mzeros\u001b[0m\u001b[0;34m(\u001b[0m\u001b[0mx\u001b[0m\u001b[0;34m,\u001b[0m\u001b[0my\u001b[0m\u001b[0;34m)\u001b[0m\u001b[0;34m)\u001b[0m\u001b[0;34m\u001b[0m\u001b[0;34m\u001b[0m\u001b[0m\n\u001b[1;32m      5\u001b[0m \u001b[0;31m# torch.int64=torch.long\u001b[0m\u001b[0;34m\u001b[0m\u001b[0;34m\u001b[0m\u001b[0;34m\u001b[0m\u001b[0m\n\u001b[0;32m----> 6\u001b[0;31m \u001b[0;34m(\u001b[0m\u001b[0mx\u001b[0m\u001b[0;34m,\u001b[0m\u001b[0;34m)\u001b[0m \u001b[0;34m+\u001b[0m \u001b[0my\u001b[0m\u001b[0;34m\u001b[0m\u001b[0;34m\u001b[0m\u001b[0m\n\u001b[0m",
      "\u001b[0;31mTypeError\u001b[0m: can only concatenate tuple (not \"int\") to tuple"
     ]
    }
   ],
   "source": [
    "x = 4\n",
    "y = 5\n",
    "#print(torch.zeros((x,)+y).to(device))\n",
    "print(torch.zeros(x,y))\n",
    "# torch.int64=torch.long\n",
    "(x,) + y"
   ]
  },
  {
   "cell_type": "markdown",
   "metadata": {},
   "source": [
    "### sample function"
   ]
  },
  {
   "cell_type": "code",
   "execution_count": 20,
   "metadata": {},
   "outputs": [
    {
     "name": "stdout",
     "output_type": "stream",
     "text": [
      "tensor([[0.9959, 0.8286, 0.1436],\n",
      "        [0.8537, 0.3497, 0.0434],\n",
      "        [0.1321, 0.9138, 0.2528]], dtype=torch.float64)\n",
      "tensor([[0.9959, 0.8286, 0.1436],\n",
      "        [0.8537, 0.3497, 0.0434],\n",
      "        [0.1321, 0.9138, 0.2528]], dtype=torch.float64)\n"
     ]
    }
   ],
   "source": [
    "A = np.random.rand(3,3)\n",
    "print(torch.from_numpy(A))\n",
    "print(torch.tensor(A))"
   ]
  },
  {
   "cell_type": "code",
   "execution_count": 113,
   "metadata": {},
   "outputs": [],
   "source": [
    "a = [i for i in range(10)]\n",
    "b = torch.tensor(a,dtype = torch.float)\n",
    "sig=nn.Sigmoid()\n",
    "b=np.array(sig(b))\n",
    "b/=b.sum()\n",
    "l = []\n",
    "for i in range(10**5):\n",
    "    l.append(int(np.random.choice(a,1,p=b)))\n",
    "c = np.zeros(10)\n",
    "for i in range(10):\n",
    "    c[i] = l.count(i)\n",
    "\n",
    "c /= c.sum()"
   ]
  },
  {
   "cell_type": "code",
   "execution_count": 114,
   "metadata": {
    "scrolled": true
   },
   "outputs": [
    {
     "name": "stdout",
     "output_type": "stream",
     "text": [
      "c= [0.055266 0.081056 0.097472 0.10511  0.109052 0.109543 0.110329 0.110593\n",
      " 0.110536 0.111043] \n",
      "\n",
      "b= [0.05533478 0.08090593 0.09747741 0.10542095 0.10867903 0.10992886\n",
      " 0.11039592 0.11056874 0.11063244 0.1106559 ]\n",
      "\n",
      "error= 0.0018687650208473253\n"
     ]
    }
   ],
   "source": [
    "print(\"c=\",c,\"\\n\\nb=\",b)\n",
    "print(\"\\nerror=\" ,(abs(c-b)).sum())"
   ]
  },
  {
   "cell_type": "markdown",
   "metadata": {},
   "source": [
    "### update error"
   ]
  },
  {
   "cell_type": "code",
   "execution_count": 131,
   "metadata": {},
   "outputs": [
    {
     "data": {
      "text/plain": [
       "array(32.970886, dtype=float32)"
      ]
     },
     "execution_count": 131,
     "metadata": {},
     "output_type": "execute_result"
    }
   ],
   "source": [
    "e = torch.rand(3,4,5)\n",
    "e.detach().shape # detach from gpu\n",
    "e = e.sum()\n",
    "e.numpy()"
   ]
  },
  {
   "cell_type": "code",
   "execution_count": 149,
   "metadata": {},
   "outputs": [],
   "source": [
    "l = np.zeros((10, 1), dtype=np.float)\n",
    "l[:4] = torch.rand(4,1).numpy() # necessary to match the size "
   ]
  },
  {
   "cell_type": "markdown",
   "metadata": {},
   "source": [
    "## Agent"
   ]
  },
  {
   "cell_type": "code",
   "execution_count": 150,
   "metadata": {},
   "outputs": [],
   "source": [
    "import numpy as np\n",
    "import random\n",
    "from collections import namedtuple, deque\n",
    "import itertools\n",
    "\n",
    "import torch\n",
    "import torch.nn.functional as F\n",
    "import torch.optim as optim"
   ]
  },
  {
   "cell_type": "code",
   "execution_count": 152,
   "metadata": {},
   "outputs": [],
   "source": [
    "seed = random.seed(42)"
   ]
  },
  {
   "cell_type": "code",
   "execution_count": 173,
   "metadata": {},
   "outputs": [
    {
     "name": "stdout",
     "output_type": "stream",
     "text": [
      "torch.Size([3, 1])\n",
      "torch.Size([1, 3, 1])\n"
     ]
    }
   ],
   "source": [
    "T = torch.from_numpy(np.random.rand(3,1))\n",
    "T1=T.unsqueeze(0) # what if use 1 or 2 instead of 0 ?\n",
    "print((T).shape)\n",
    "print(T1.shape)\n",
    "\n"
   ]
  },
  {
   "cell_type": "markdown",
   "metadata": {},
   "source": [
    "### act"
   ]
  },
  {
   "cell_type": "code",
   "execution_count": 184,
   "metadata": {},
   "outputs": [
    {
     "name": "stdout",
     "output_type": "stream",
     "text": [
      "True\n",
      "True\n",
      "False\n"
     ]
    }
   ],
   "source": [
    "x = torch.randn(3, requires_grad=True)\n",
    "print(x.requires_grad)\n",
    "print((x ** 2).requires_grad)\n",
    "\n",
    "with torch.no_grad():\n",
    "    print((x ** 2).requires_grad)\n",
    "# visit https://pytorch.org/tutorials/beginner/blitz/autograd_tutorial.html#gradients"
   ]
  },
  {
   "cell_type": "code",
   "execution_count": 186,
   "metadata": {},
   "outputs": [
    {
     "name": "stdout",
     "output_type": "stream",
     "text": [
      "2\n",
      "tensor([-0.6811, -0.9251, -0.2685], requires_grad=True)\n"
     ]
    }
   ],
   "source": [
    "print(np.argmax(x.data.numpy()))\n",
    "print(x)"
   ]
  },
  {
   "cell_type": "code",
   "execution_count": 189,
   "metadata": {},
   "outputs": [
    {
     "data": {
      "text/plain": [
       "array([0, 1, 2, 3, 4, 5, 6, 7, 8, 9])"
      ]
     },
     "execution_count": 189,
     "metadata": {},
     "output_type": "execute_result"
    }
   ],
   "source": [
    "np.arange(10)"
   ]
  },
  {
   "cell_type": "markdown",
   "metadata": {},
   "source": [
    "### update error"
   ]
  },
  {
   "cell_type": "code",
   "execution_count": 239,
   "metadata": {},
   "outputs": [
    {
     "name": "stdout",
     "output_type": "stream",
     "text": [
      "tensor([[1, 2],\n",
      "        [3, 4],\n",
      "        [5, 6]]) \n",
      "\n",
      " tensor([[0, 0],\n",
      "        [1, 2],\n",
      "        [2, 1],\n",
      "        [1, 1]]) \n",
      "\n",
      " tensor([[0, 1, 0],\n",
      "        [1, 1, 1],\n",
      "        [1, 0, 0]]) \n",
      "\n",
      "tensor([[1, 2],\n",
      "        [3, 6],\n",
      "        [5, 4],\n",
      "        [3, 4]]) \n",
      "\n",
      " tensor([[1, 2, 1],\n",
      "        [4, 4, 4],\n",
      "        [6, 5, 5]])\n"
     ]
    }
   ],
   "source": [
    "t = torch.tensor([[1,2],[3,4],[5,6]])\n",
    "g = torch.tensor([[0,0],[1,2],[2,1],[1,1]])\n",
    "h = torch.tensor([[0,1,0],[1,1,1],[1,0,0]])\n",
    "print(t,\"\\n\\n\",g,\"\\n\\n\",h,\"\\n\")\n",
    "print(t.gather(0, g) ,\"\\n\\n\",t.gather(-1, h))"
   ]
  },
  {
   "cell_type": "code",
   "execution_count": 241,
   "metadata": {},
   "outputs": [
    {
     "data": {
      "text/plain": [
       "1"
      ]
     },
     "execution_count": 241,
     "metadata": {},
     "output_type": "execute_result"
    }
   ],
   "source": [
    "done = True\n",
    "none = False\n",
    "1-done\n",
    "1-none"
   ]
  },
  {
   "cell_type": "markdown",
   "metadata": {},
   "source": [
    "## train agent"
   ]
  },
  {
   "cell_type": "code",
   "execution_count": 249,
   "metadata": {},
   "outputs": [],
   "source": [
    "d = deque(maxlen=3)\n",
    "d.append(3)\n",
    "d.append(4)\n",
    "d.append(5)"
   ]
  },
  {
   "cell_type": "code",
   "execution_count": 250,
   "metadata": {},
   "outputs": [
    {
     "name": "stdout",
     "output_type": "stream",
     "text": [
      "deque([3, 4, 5], maxlen=3)\n",
      "deque([4, 5, 7], maxlen=3)\n"
     ]
    }
   ],
   "source": [
    "print(d)\n",
    "d.append(7)\n",
    "print(d)"
   ]
  },
  {
   "cell_type": "code",
   "execution_count": 251,
   "metadata": {},
   "outputs": [
    {
     "data": {
      "text/plain": [
       "(4, 95, 128)"
      ]
     },
     "execution_count": 251,
     "metadata": {},
     "output_type": "execute_result"
    }
   ],
   "source": [
    "(4,)+(95, 128)"
   ]
  },
  {
   "cell_type": "code",
   "execution_count": 255,
   "metadata": {},
   "outputs": [
    {
     "data": {
      "text/plain": [
       "tensor([0.3912, 0.5234, 0.0063])"
      ]
     },
     "execution_count": 255,
     "metadata": {},
     "output_type": "execute_result"
    }
   ],
   "source": [
    "(4,) + (5,)"
   ]
  },
  {
   "cell_type": "code",
   "execution_count": 273,
   "metadata": {},
   "outputs": [],
   "source": [
    "d.append(np.copy(torch.rand(3,3)))"
   ]
  },
  {
   "cell_type": "code",
   "execution_count": 278,
   "metadata": {},
   "outputs": [
    {
     "data": {
      "text/plain": [
       "(3, 3, 3)"
      ]
     },
     "execution_count": 278,
     "metadata": {},
     "output_type": "execute_result"
    }
   ],
   "source": [
    "np.shape(np.array(d))"
   ]
  },
  {
   "cell_type": "code",
   "execution_count": 283,
   "metadata": {},
   "outputs": [
    {
     "data": {
      "text/plain": [
       "3.0"
      ]
     },
     "execution_count": 283,
     "metadata": {},
     "output_type": "execute_result"
    }
   ],
   "source": [
    "6//2\n",
    "6/2"
   ]
  },
  {
   "cell_type": "code",
   "execution_count": null,
   "metadata": {},
   "outputs": [],
   "source": []
  }
 ],
 "metadata": {
  "kernelspec": {
   "display_name": "Python 3",
   "language": "python",
   "name": "python3"
  },
  "language_info": {
   "codemirror_mode": {
    "name": "ipython",
    "version": 3
   },
   "file_extension": ".py",
   "mimetype": "text/x-python",
   "name": "python",
   "nbconvert_exporter": "python",
   "pygments_lexer": "ipython3",
   "version": "3.7.3"
  }
 },
 "nbformat": 4,
 "nbformat_minor": 2
}
